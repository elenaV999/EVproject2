{
 "cells": [
  {
   "cell_type": "markdown",
   "metadata": {},
   "source": [
    "---\n",
    "# Dynamical evolution of binary black holes\n",
    "---\n",
    "\n",
    "The evolution of binary black holes inside a star cluster is driven by three-body encounters until their semi-major axis shrinks below a certain value, where GW emission becomes the dominant effect. \n",
    "I simulated three body encounters between a binary system of black holes and an intruder BH in order to study their effect on the properties of the surviving binaries.  "
   ]
  },
  {
   "cell_type": "markdown",
   "metadata": {},
   "source": [
    "### Initial conditions\n",
    "The initial conditions for the three body systems are set to reproduce the effect of the cluster environment, in which the binary BHs is located, without actually simulating it.\n",
    "This allows to have enough computational power to simulate the encounters with high accuracy and still be able to run enough of them to obtain statistically meaningful results.  \n",
    "\n",
    "- The BH masses are generated according to the Salpeter mass function: $\\quad$ f(m) $\\propto$ m$^{-2.3}$  with range m $\\in$ \\[3, 70\\] M$_{\\odot}$ \n",
    "<br> which is the observed mass function for stars with a restricted range to account for the processes that lead to BH formation.\n",
    "\n",
    "\n",
    "- the position of the intruder is drawn with uniform probability distribution on a sphere of radius d = 0.01 pc centered in the CoM of the binary, since stars inside clusters have random motion. The distance is set to be much larger than the semi-major axis of the binary and much smaller than the average distance between stars in a cluster, so that it makes sense to neglect the interaction of the environment during the encounter (the external potential is set to zero).\n",
    "\n",
    "\n",
    "- the relative velocity between the binary and the intruder is Maxwellian distributed, with standard deviation $\\sigma$ = 5 km/s, as expected for a small star cluster with a 10$^3$-10$^4$ M$_\\odot$ mass. "
   ]
  },
  {
   "cell_type": "markdown",
   "metadata": {},
   "source": [
    "Each encounter is run separately with the code ARWV, which solves the N-body problem including post-newtonian corrections up to order 2.5, to account for energy and angular momentum loss due to GW emission.\n",
    "\n",
    "simulation parameters        |                         |        \n",
    ":----------------------------|:-----------------------|\n",
    "number of three-body systems | $\\quad$ 300     |\n",
    "total integration time       | $\\quad$ 1500 yr |\n",
    "regularization method  | $\\quad$ Logarithmic Hamiltonian        |\n"
   ]
  },
  {
   "cell_type": "markdown",
   "metadata": {},
   "source": [
    "### Final mass distribution "
   ]
  },
  {
   "cell_type": "markdown",
   "metadata": {},
   "source": [
    "![alt](q_distr_.png) | ![alt](mass_distr_.png)|\n",
    ":-------|:-----   |\n",
    " **Figure 1:** mass ratio between the ejected BH and the intruder, for exchange encounters (in red). <br>If the exchange doesn't happen, the mass ratio is taken between the less massive BH in the binary and the intruder (blue).|  **Figure 2:** mass distribution of single BHs and BHs that are part of binaries at the end of the simulation.|"
   ]
  },
  {
   "cell_type": "markdown",
   "metadata": {},
   "source": [
    "The fraction of dynamical exchanges, where the intruder replaces one of the BHs in the binary, is 60 % over all encounters. No binaries are ionized and there are no mergers. \n",
    "\n",
    "I plot the mass ratio distribution distribution (**Fig.1**) considering:\n",
    "\n",
    "$\\quad q=\\frac{m_{ejected BH}}{m_{intruder}}$ for exchanged binaries\n",
    "\n",
    "$\\quad q=\\frac{min(m_1,\\,m_2)}{m_{intruder}}$ for encounters in which the exchange didn't happen\n",
    "\n",
    "The difference between the two distributions shows how exchanges are more likely to take place when the intruder has higher mass in respect to the star that it substitutes in the binary. \n",
    "In fact, the mass ratio is $q<1$ for 81.4 % of exchanges, which also means that the newly formed binary has larger mass than the initial one. The amount of exchanges rapidly decreases after $q=1$, which is marked in the graph by a black vertical line.  \n",
    "\n",
    "The result is that BHs that are part of a binary at the end of the simulation tend to have larger mass than single BHs, even if they started with the same distribution from initial conditions (**Fig.2**).\n",
    "This shows how one of the effects of dynamical exchanges is to produce binaries of higher mass and therefore shift the mass distribution of BHs resulting from their merger towards higher values. "
   ]
  },
  {
   "cell_type": "markdown",
   "metadata": {},
   "source": [
    "### Time until merger by GW emission\n",
    "The plots in **Fig.3** show that, as a result of three-body encounters, the eccentricity of the binary tends to increase and the semi-major axis tends to decrease, except for a few cases of exchanged binaries in which it increases well above the maximum value given with the initial conditions. The total mass of the binary tends to increase, as already discussed above. \n",
    "\n",
    "All of these factors contribute to reduce the time that it takes for the binary to merge only considering the orbital energy lost with GW emission: \n",
    "<center>$ t_{\\text{GW}} = \\frac{5}{256} \\frac{c^5 (1-e^5)^{7/2} \\,\\,a^4}{G^3 m_1 m_2 (m_1+m_2)}$</center>\n",
    "\n",
    "where $m_1$ and $m_2$ are the masses of the BHs forming the binary, $a$ is the semi-major axis and $e$ is the eccentricity. \n",
    "\n",
    "After one encounter, the majority of binaries won't merge within a Hubble time. However, inside a star cluster, a binary can undergo multiple encounters, that can further reduce $t_{GW}$. \n",
    "\n"
   ]
  },
  {
   "cell_type": "markdown",
   "metadata": {},
   "source": [
    "![alt](TGW.png)\n",
    "\n",
    "|  |\n",
    "|:--:|\n",
    "|**Fig.3:** Semi-major axis, eccentricity, and $t_{\\text{GW}}$ at the beginning and end of the simulation.|"
   ]
  },
  {
   "cell_type": "markdown",
   "metadata": {},
   "source": [
    "### CODE\n",
    "- The initial conditions for all the encounters are generated with [mtcarlo_3body_new.py](mtcarlo_3body_new.py)\n",
    "\n",
    "- All the plots above are obtained with the script [binaries.py](binaries.py)"
   ]
  },
  {
   "cell_type": "code",
   "execution_count": null,
   "metadata": {},
   "outputs": [],
   "source": []
  }
 ],
 "metadata": {
  "kernelspec": {
   "display_name": "Python 3",
   "language": "python",
   "name": "python3"
  },
  "language_info": {
   "codemirror_mode": {
    "name": "ipython",
    "version": 3
   },
   "file_extension": ".py",
   "mimetype": "text/x-python",
   "name": "python",
   "nbconvert_exporter": "python",
   "pygments_lexer": "ipython3",
   "version": "3.8.2"
  }
 },
 "nbformat": 4,
 "nbformat_minor": 4
}
